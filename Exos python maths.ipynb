{
 "cells": [
  {
   "cell_type": "code",
   "execution_count": 34,
   "id": "6549cb31",
   "metadata": {},
   "outputs": [
    {
     "name": "stdout",
     "output_type": "stream",
     "text": [
      "1\n",
      "3\n",
      "9\n",
      "27\n",
      "81\n",
      "243\n",
      "729\n",
      "2187\n",
      "6561\n",
      "19683\n",
      "59049\n",
      "177147\n"
     ]
    }
   ],
   "source": [
    "nombre = 1\n",
    "\n",
    "for i in range(12): #i peut être remplacé par autre chose\n",
    "    print(nombre)\n",
    "    nombre *= 3 #print (a*(3**i))"
   ]
  },
  {
   "cell_type": "code",
   "execution_count": 18,
   "id": "c51eab15",
   "metadata": {},
   "outputs": [
    {
     "name": "stdout",
     "output_type": "stream",
     "text": [
      "Entrez le prix HT (entrez '0' pour terminer) : 10\n",
      "Le prix TTC est : 12.0\n",
      "Entrez le prix HT (entrez '0' pour terminer) : 20\n",
      "Le prix TTC est : 24.0\n",
      "Entrez le prix HT (entrez '0' pour terminer) : 30\n",
      "Le prix TTC est : 36.0\n",
      "Entrez le prix HT (entrez '0' pour terminer) : 35\n",
      "Le prix TTC est : 42.0\n",
      "Entrez le prix HT (entrez '0' pour terminer) : 0\n",
      "Fin du programme.\n"
     ]
    }
   ],
   "source": [
    "TVA = 0.20  # Taux de TVA\n",
    "\n",
    "while True:\n",
    "    prix_HT = float(input(\"Entrez le prix HT (entrez '0' pour terminer) : \"))\n",
    "    \n",
    "    if prix_HT == 0:\n",
    "        print(\"Fin du programme.\")\n",
    "        break\n",
    "    \n",
    "    prix_TTC = prix_HT * (1 + TVA)\n",
    "    print(\"Le prix TTC est :\", prix_TTC)"
   ]
  },
  {
   "cell_type": "code",
   "execution_count": 19,
   "id": "0add0e43",
   "metadata": {},
   "outputs": [
    {
     "name": "stdout",
     "output_type": "stream",
     "text": [
      "Entrez le nombre de termes de la série de Fibonacci à générer : 60\n",
      "La série de Fibonacci pour les 60 premiers termes est : [0, 1, 1, 2, 3, 5, 8, 13, 21, 34, 55, 89, 144, 233, 377, 610, 987, 1597, 2584, 4181, 6765, 10946, 17711, 28657, 46368, 75025, 121393, 196418, 317811, 514229, 832040, 1346269, 2178309, 3524578, 5702887, 9227465, 14930352, 24157817, 39088169, 63245986, 102334155, 165580141, 267914296, 433494437, 701408733, 1134903170, 1836311903, 2971215073, 4807526976, 7778742049, 12586269025, 20365011074, 32951280099, 53316291173, 86267571272, 139583862445, 225851433717, 365435296162, 591286729879, 956722026041]\n"
     ]
    }
   ],
   "source": [
    "def fibonacci(n):\n",
    "    fib_series = [0, 1]  # Initialisation de la série de Fibonacci avec les deux premiers termes\n",
    "    \n",
    "    if n <= 0:\n",
    "        return \"Veuillez entrer un nombre entier positif.\"\n",
    "    elif n == 1:\n",
    "        return [0]  # Si n est 1, retourner juste le premier terme de la série\n",
    "    elif n == 2:\n",
    "        return fib_series  # Si n est 2, retourner les deux premiers termes\n",
    "    \n",
    "    # Calcul des termes suivants de la suite de Fibonacci\n",
    "    for i in range(2, n):\n",
    "        fib_series.append(fib_series[-1] + fib_series[-2])\n",
    "    \n",
    "    return fib_series\n",
    "\n",
    "# Demander à l'utilisateur le nombre de termes de la série de Fibonacci à générer\n",
    "nombre_termes = int(input(\"Entrez le nombre de termes de la série de Fibonacci à générer : \"))\n",
    "\n",
    "# Afficher la série de Fibonacci pour le nombre de termes spécifié\n",
    "print(\"La série de Fibonacci pour les\", nombre_termes, \"premiers termes est :\", fibonacci(nombre_termes))"
   ]
  },
  {
   "cell_type": "code",
   "execution_count": 40,
   "id": "e0d58cbf",
   "metadata": {},
   "outputs": [
    {
     "name": "stdout",
     "output_type": "stream",
     "text": [
      "Choisis un nombre entier supérieur à 2 : 2\n",
      "Le nombre 2 est premier\n"
     ]
    }
   ],
   "source": [
    "try:\n",
    "    nb = int(input(\"Choisis un nombre entier supérieur à 2 : \"))\n",
    "except ValueError:\n",
    "    nb = 2\n",
    "\n",
    "list_div = []\n",
    "for i in range(2, nb):\n",
    "    if nb % i == 0:\n",
    "        list_div.append(i)\n",
    "\n",
    "if list_div == []:\n",
    "    print(f\"Le nombre {nb} est premier\")\n",
    "else:\n",
    "    print(list_div)"
   ]
  },
  {
   "cell_type": "code",
   "execution_count": 61,
   "id": "ccf9eb13",
   "metadata": {},
   "outputs": [
    {
     "name": "stdout",
     "output_type": "stream",
     "text": [
      "Bonnm simstm\n"
     ]
    }
   ],
   "source": [
    "def changeCar(ch, ca1, ca2, début, fin):\n",
    "    \n",
    "    ch_modifié = ch[:début] + ch[début:fin].replace(ca1, ca2) + ch[fin:]\n",
    "    return ch_modifié\n",
    "\n",
    "chaine = \"Bonne sieste\"\n",
    "nouvelle_chaine = changeCar(chaine, 'e', 'm', 4, 12)\n",
    "print(nouvelle_chaine)"
   ]
  },
  {
   "cell_type": "code",
   "execution_count": 65,
   "id": "903efa6c",
   "metadata": {},
   "outputs": [
    {
     "name": "stdout",
     "output_type": "stream",
     "text": [
      "Arsgatogozasmassu\n"
     ]
    }
   ],
   "source": [
    "def changeCar(ch, ca1, ca2):\n",
    "    while True:\n",
    "        ch_modifié = ch.replace(ca1, ca2)\n",
    "        if ch_modifié == ch:  # Si la chaîne n'est pas modifiée, on sort de la boucle\n",
    "            break\n",
    "        ch = ch_modifié\n",
    "    return ch_modifié\n",
    "\n",
    "chaine = \"Arigatogozaimassu\"\n",
    "nouvelle_chaine = changeCar(chaine, 'i', 's')\n",
    "print(nouvelle_chaine)"
   ]
  },
  {
   "cell_type": "code",
   "execution_count": 35,
   "id": "4a667fbd",
   "metadata": {},
   "outputs": [
    {
     "name": "stdout",
     "output_type": "stream",
     "text": [
      "Entrez le nombre de victimes : 3\n",
      "La somme que le chasseur doit débourser est de 114 euros.\n"
     ]
    }
   ],
   "source": [
    "def amende(nb_victimes):\n",
    "    points_perdus = nb_victimes * (1 + 3 + 5 + 10)\n",
    "    return points_perdus\n",
    "\n",
    "def main():\n",
    "    nb_victimes = int(input(\"Entrez le nombre de victimes : \"))\n",
    "    somme_due = amende(nb_victimes)\n",
    "    cout_permis = 200\n",
    "    if somme_due <= 100:\n",
    "        cout_permis = 0\n",
    "    else:\n",
    "        somme_due -= 100\n",
    "    total = somme_due * 2\n",
    "    print(\"La somme que le chasseur doit débourser est de\", total + cout_permis, \"euros.\")\n",
    "\n",
    "if __name__ == \"__main__\":\n",
    "    main()"
   ]
  },
  {
   "cell_type": "code",
   "execution_count": null,
   "id": "ed02fde3",
   "metadata": {},
   "outputs": [],
   "source": []
  }
 ],
 "metadata": {
  "kernelspec": {
   "display_name": "Python 3 (ipykernel)",
   "language": "python",
   "name": "python3"
  },
  "language_info": {
   "codemirror_mode": {
    "name": "ipython",
    "version": 3
   },
   "file_extension": ".py",
   "mimetype": "text/x-python",
   "name": "python",
   "nbconvert_exporter": "python",
   "pygments_lexer": "ipython3",
   "version": "3.10.6"
  },
  "toc": {
   "base_numbering": 1,
   "nav_menu": {},
   "number_sections": true,
   "sideBar": true,
   "skip_h1_title": false,
   "title_cell": "Table of Contents",
   "title_sidebar": "Contents",
   "toc_cell": false,
   "toc_position": {},
   "toc_section_display": true,
   "toc_window_display": false
  }
 },
 "nbformat": 4,
 "nbformat_minor": 5
}
