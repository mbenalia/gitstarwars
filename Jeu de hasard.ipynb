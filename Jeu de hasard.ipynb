{
 "cells": [
  {
   "cell_type": "code",
   "execution_count": 2,
   "id": "980e74ad",
   "metadata": {},
   "outputs": [
    {
     "name": "stdout",
     "output_type": "stream",
     "text": [
      "Devinez le nombre (entre 1 et 100) : 3\n",
      "Froid !\n",
      "Devinez le nombre (entre 1 et 100) : 3\n",
      "Plus froid !\n",
      "Devinez le nombre (entre 1 et 100) : 10\n",
      "Plus chaud !\n",
      "Devinez le nombre (entre 1 et 100) : 12\n",
      "Plus chaud !\n",
      "Devinez le nombre (entre 1 et 100) : 13\n",
      "Plus chaud !\n",
      "Devinez le nombre (entre 1 et 100) : 14\n",
      "Plus chaud !\n",
      "Devinez le nombre (entre 1 et 100) : 15\n",
      "Plus chaud !\n",
      "Devinez le nombre (entre 1 et 100) : 16\n",
      "Plus chaud !\n",
      "Devinez le nombre (entre 1 et 100) : 17\n",
      "Plus chaud !\n",
      "Devinez le nombre (entre 1 et 100) : 18\n",
      "Plus chaud !\n",
      "Devinez le nombre (entre 1 et 100) : 19\n",
      "Plus chaud !\n",
      "Devinez le nombre (entre 1 et 100) : 20\n",
      "Plus chaud !\n",
      "Devinez le nombre (entre 1 et 100) : 21\n",
      "Plus chaud !\n",
      "Devinez le nombre (entre 1 et 100) : 22\n",
      "Plus chaud !\n",
      "Devinez le nombre (entre 1 et 100) : 25\n",
      "Plus chaud !\n",
      "Devinez le nombre (entre 1 et 100) : 30\n",
      "Bravo, vous avez deviné le nombre en 16 tentatives !\n"
     ]
    }
   ],
   "source": [
    "import random\n",
    "\n",
    "# Générer un nombre aléatoire entre 1 et 100\n",
    "mystery = random.randint(1, 100)\n",
    "\n",
    "# Initialiser le compteur de tentatives\n",
    "count = 0\n",
    "\n",
    "# Boucle de jeu\n",
    "while True:\n",
    "    # Demander au joueur de deviner le nombre\n",
    "    guess = int(input(\"Devinez le nombre (entre 1 et 100) : \"))\n",
    "\n",
    "    # Vérifier si le guess est en dehors des limites\n",
    "    if guess < 1 or guess > 100:\n",
    "        print(\"Hors limites\")\n",
    "        continue  # Revenir au début de la boucle\n",
    "\n",
    "    # Incrémenter le compteur de tentatives\n",
    "    count += 1\n",
    "\n",
    "    # Vérifier si le guess est correct\n",
    "    if guess == mystery:\n",
    "        print(f\"Bravo, vous avez deviné le nombre en {count} tentatives !\")\n",
    "        break  # Sortir de la boucle\n",
    "\n",
    "    # Si c'est la première tentative, donner un indice\n",
    "    if count == 1:\n",
    "        if abs(mystery - guess) <= 10:\n",
    "            print(\"Chaud !\")\n",
    "        else:\n",
    "            print(\"Froid !\")\n",
    "    else:\n",
    "        # Comparer le nouveau guess avec le précédent pour donner un indice\n",
    "        if abs(mystery - guess) < abs(mystery - previous_guess):\n",
    "            print(\"Plus chaud !\")\n",
    "        else:\n",
    "            print(\"Plus froid !\")\n",
    "\n",
    "    # Stocker le guess actuel pour la prochaine itération\n",
    "    previous_guess = guess"
   ]
  },
  {
   "cell_type": "code",
   "execution_count": null,
   "id": "28fc93b9",
   "metadata": {},
   "outputs": [],
   "source": []
  }
 ],
 "metadata": {
  "kernelspec": {
   "display_name": "Python 3 (ipykernel)",
   "language": "python",
   "name": "python3"
  },
  "language_info": {
   "codemirror_mode": {
    "name": "ipython",
    "version": 3
   },
   "file_extension": ".py",
   "mimetype": "text/x-python",
   "name": "python",
   "nbconvert_exporter": "python",
   "pygments_lexer": "ipython3",
   "version": "3.10.6"
  },
  "toc": {
   "base_numbering": 1,
   "nav_menu": {},
   "number_sections": true,
   "sideBar": true,
   "skip_h1_title": false,
   "title_cell": "Table of Contents",
   "title_sidebar": "Contents",
   "toc_cell": false,
   "toc_position": {},
   "toc_section_display": true,
   "toc_window_display": false
  }
 },
 "nbformat": 4,
 "nbformat_minor": 5
}
