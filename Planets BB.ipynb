{
 "cells": [
  {
   "cell_type": "code",
   "execution_count": 3,
   "id": "1f85e47f",
   "metadata": {},
   "outputs": [
    {
     "name": "stdout",
     "output_type": "stream",
     "text": [
      "Failed to retrieve data from https://swapi.dev/api/spaceships/\n",
      "Empty DataFrame\n",
      "Columns: []\n",
      "Index: []\n"
     ]
    }
   ],
   "source": [
    "import requests\n",
    "import pandas as pd\n",
    "\n",
    "def get_swapi_data(resource):\n",
    "    url = f\"https://swapi.dev/api/{resource}/\"\n",
    "    response = requests.get(url)\n",
    "    if response.status_code == 200:\n",
    "        return response.json()\n",
    "    else:\n",
    "        print(f\"Failed to retrieve data from {url}\")\n",
    "        return None\n",
    "\n",
    "def get_planets():\n",
    "    planets_data = get_swapi_data(\"planets\")\n",
    "    if planets_data:\n",
    "        return planets_data.get(\"results\", [])\n",
    "def get_spaceships():\n",
    "    spaceships_data = get_swapi_data(\"spaceships\")\n",
    "    if spaceships_data:\n",
    "        return spaceships_data.get(\"results\", [])\n",
    "    else:\n",
    "        return []\n",
    "\n",
    "def create_dataframe_from_swapi(resource):\n",
    "    data = get_swapi_data(resource)\n",
    "    if data:\n",
    "        return pd.DataFrame(data.get(\"results\", []))\n",
    "    else:\n",
    "        return pd.DataFrame()\n",
    "\n",
    "if __name__ == \"__main__\":\n",
    "    planets_df = create_dataframe_from_swapi(\"planets\")\n",
    "    #print(planets_df.head())\n",
    "    spaceships_df = create_dataframe_from_swapi(\"spaceships\")\n",
    "    print(spaceships_df.head())"
   ]
  },
  {
   "cell_type": "code",
   "execution_count": null,
   "id": "28273982",
   "metadata": {},
   "outputs": [],
   "source": []
  }
 ],
 "metadata": {
  "kernelspec": {
   "display_name": "Python 3 (ipykernel)",
   "language": "python",
   "name": "python3"
  },
  "language_info": {
   "codemirror_mode": {
    "name": "ipython",
    "version": 3
   },
   "file_extension": ".py",
   "mimetype": "text/x-python",
   "name": "python",
   "nbconvert_exporter": "python",
   "pygments_lexer": "ipython3",
   "version": "3.10.6"
  },
  "toc": {
   "base_numbering": 1,
   "nav_menu": {},
   "number_sections": true,
   "sideBar": true,
   "skip_h1_title": false,
   "title_cell": "Table of Contents",
   "title_sidebar": "Contents",
   "toc_cell": false,
   "toc_position": {},
   "toc_section_display": true,
   "toc_window_display": false
  }
 },
 "nbformat": 4,
 "nbformat_minor": 5
}
