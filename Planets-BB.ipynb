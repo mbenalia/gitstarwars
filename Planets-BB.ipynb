{
 "cells": [
  {
   "cell_type": "code",
   "execution_count": 3,
   "id": "1f85e47f",
   "metadata": {},
   "outputs": [
    {
     "name": "stdout",
     "output_type": "stream",
     "text": [
      "Failed to retrieve data from https://swapi.dev/api/spaceships/\n",
      "Empty DataFrame\n",
      "Columns: []\n",
      "Index: []\n"
     ]
    }
   ],
   "source": [
    "import requests\n",
    "import pandas as pd\n",
    "\n",
    "def get_swapi_data(resource):\n",
    "    url = f\"https://swapi.dev/api/{resource}/\"\n",
    "    response = requests.get(url)\n",
    "    if response.status_code == 200:\n",
    "        return response.json()\n",
    "    else:\n",
    "        print(f\"Failed to retrieve data from {url}\")\n",
    "        return None\n",
    "\n",
    "def get_planets():\n",
    "    planets_data = get_swapi_data(\"planets\")\n",
    "    if planets_data:\n",
    "        return planets_data.get(\"results\", [])\n",
    "def get_spaceships():\n",
    "    spaceships_data = get_swapi_data(\"spaceships\")\n",
    "    if spaceships_data:\n",
    "        return spaceships_data.get(\"results\", [])\n",
    "    else:\n",
    "        return []\n",
    "\n",
    "def create_dataframe_from_swapi(resource):\n",
    "    data = get_swapi_data(resource)\n",
    "    if data:\n",
    "        return pd.DataFrame(data.get(\"results\", []))\n",
    "    else:\n",
    "        return pd.DataFrame()\n",
    "\n",
    "if __name__ == \"__main__\":\n",
    "    planets_df = create_dataframe_from_swapi(\"planets\")\n",
    "    #print(planets_df.head())\n",
    "    spaceships_df = create_dataframe_from_swapi(\"spaceships\")\n",
    "    print(spaceships_df.head())"
   ]
  },
  {
   "cell_type": "code",
   "execution_count": 2,
   "id": "df5bd273",
   "metadata": {},
   "outputs": [],
   "source": [
    "\n",
    "import requests\n",
    "import pandas as pd"
   ]
  },
  {
   "cell_type": "code",
   "execution_count": 3,
   "id": "28273982",
   "metadata": {},
   "outputs": [],
   "source": [
    "def get_swapi_data(resource):\n",
    "    url = f\"https://swapi.dev/api/{resource}/\"\n",
    "    response = requests.get(url)\n",
    "    if response.status_code == 200:\n",
    "        return response.json()\n",
    "    else:\n",
    "        print(f\"Failed to retrieve data from {url}\")\n",
    "        return None\n"
   ]
  },
  {
   "cell_type": "code",
   "execution_count": 4,
   "id": "c88f5be8",
   "metadata": {},
   "outputs": [],
   "source": [
    "\n",
    "def get_planets(n):\n",
    "    planets_data = get_swapi_data(\"planets\")\n",
    "    if planets_data:\n",
    "        planets_list = planets_data.get(\"results\", [])\n",
    "        return planets_list[:n]  # Renvoie les n premières planètes de la liste\n",
    "    else:\n",
    "        return []\n"
   ]
  },
  {
   "cell_type": "code",
   "execution_count": 5,
   "id": "4769581b",
   "metadata": {},
   "outputs": [],
   "source": [
    "\n",
    "def create_dataframe_from_swapi_planets(n):\n",
    "    data = get_planets(n)\n",
    "    if data:\n",
    "        return pd.DataFrame(data)  # Passer directement la liste de dictionnaires\n",
    "    else:\n",
    "        return pd.DataFrame()\n"
   ]
  },
  {
   "cell_type": "code",
   "execution_count": 6,
   "id": "ba0984c5",
   "metadata": {},
   "outputs": [
    {
     "name": "stdout",
     "output_type": "stream",
     "text": [
      "        name rotation_period orbital_period diameter              climate  \\\n",
      "0   Tatooine              23            304    10465                 arid   \n",
      "1   Alderaan              24            364    12500            temperate   \n",
      "2   Yavin IV              24           4818    10200  temperate, tropical   \n",
      "3       Hoth              23            549     7200               frozen   \n",
      "4    Dagobah              23            341     8900                murky   \n",
      "5     Bespin              12           5110   118000            temperate   \n",
      "6      Endor              18            402     4900            temperate   \n",
      "7      Naboo              26            312    12120            temperate   \n",
      "8  Coruscant              24            368    12240            temperate   \n",
      "9     Kamino              27            463    19720            temperate   \n",
      "\n",
      "                                  gravity  \\\n",
      "0                              1 standard   \n",
      "1                              1 standard   \n",
      "2                              1 standard   \n",
      "3                            1.1 standard   \n",
      "4                                     N/A   \n",
      "5  1.5 (surface), 1 standard (Cloud City)   \n",
      "6                           0.85 standard   \n",
      "7                              1 standard   \n",
      "8                              1 standard   \n",
      "9                              1 standard   \n",
      "\n",
      "                                    terrain surface_water     population  \\\n",
      "0                                    desert             1         200000   \n",
      "1                     grasslands, mountains            40     2000000000   \n",
      "2                       jungle, rainforests             8           1000   \n",
      "3        tundra, ice caves, mountain ranges           100        unknown   \n",
      "4                            swamp, jungles             8        unknown   \n",
      "5                                 gas giant             0        6000000   \n",
      "6                 forests, mountains, lakes             8       30000000   \n",
      "7  grassy hills, swamps, forests, mountains            12     4500000000   \n",
      "8                      cityscape, mountains       unknown  1000000000000   \n",
      "9                                     ocean           100     1000000000   \n",
      "\n",
      "                                           residents  \\\n",
      "0  [https://swapi.dev/api/people/1/, https://swap...   \n",
      "1  [https://swapi.dev/api/people/5/, https://swap...   \n",
      "2                                                 []   \n",
      "3                                                 []   \n",
      "4                                                 []   \n",
      "5                 [https://swapi.dev/api/people/26/]   \n",
      "6                 [https://swapi.dev/api/people/30/]   \n",
      "7  [https://swapi.dev/api/people/3/, https://swap...   \n",
      "8  [https://swapi.dev/api/people/34/, https://swa...   \n",
      "9  [https://swapi.dev/api/people/22/, https://swa...   \n",
      "\n",
      "                                               films  \\\n",
      "0  [https://swapi.dev/api/films/1/, https://swapi...   \n",
      "1  [https://swapi.dev/api/films/1/, https://swapi...   \n",
      "2                   [https://swapi.dev/api/films/1/]   \n",
      "3                   [https://swapi.dev/api/films/2/]   \n",
      "4  [https://swapi.dev/api/films/2/, https://swapi...   \n",
      "5                   [https://swapi.dev/api/films/2/]   \n",
      "6                   [https://swapi.dev/api/films/3/]   \n",
      "7  [https://swapi.dev/api/films/3/, https://swapi...   \n",
      "8  [https://swapi.dev/api/films/3/, https://swapi...   \n",
      "9                   [https://swapi.dev/api/films/5/]   \n",
      "\n",
      "                       created                       edited  \\\n",
      "0  2014-12-09T13:50:49.641000Z  2014-12-20T20:58:18.411000Z   \n",
      "1  2014-12-10T11:35:48.479000Z  2014-12-20T20:58:18.420000Z   \n",
      "2  2014-12-10T11:37:19.144000Z  2014-12-20T20:58:18.421000Z   \n",
      "3  2014-12-10T11:39:13.934000Z  2014-12-20T20:58:18.423000Z   \n",
      "4  2014-12-10T11:42:22.590000Z  2014-12-20T20:58:18.425000Z   \n",
      "5  2014-12-10T11:43:55.240000Z  2014-12-20T20:58:18.427000Z   \n",
      "6  2014-12-10T11:50:29.349000Z  2014-12-20T20:58:18.429000Z   \n",
      "7  2014-12-10T11:52:31.066000Z  2014-12-20T20:58:18.430000Z   \n",
      "8  2014-12-10T11:54:13.921000Z  2014-12-20T20:58:18.432000Z   \n",
      "9  2014-12-10T12:45:06.577000Z  2014-12-20T20:58:18.434000Z   \n",
      "\n",
      "                                 url  \n",
      "0   https://swapi.dev/api/planets/1/  \n",
      "1   https://swapi.dev/api/planets/2/  \n",
      "2   https://swapi.dev/api/planets/3/  \n",
      "3   https://swapi.dev/api/planets/4/  \n",
      "4   https://swapi.dev/api/planets/5/  \n",
      "5   https://swapi.dev/api/planets/6/  \n",
      "6   https://swapi.dev/api/planets/7/  \n",
      "7   https://swapi.dev/api/planets/8/  \n",
      "8   https://swapi.dev/api/planets/9/  \n",
      "9  https://swapi.dev/api/planets/10/  \n"
     ]
    }
   ],
   "source": [
    "\n",
    "if __name__ == \"__main__\":\n",
    "    planets_df = create_dataframe_from_swapi_planets(10)\n",
    "    print(planets_df)"
   ]
  },
  {
   "cell_type": "code",
   "execution_count": null,
   "id": "9f18f14d",
   "metadata": {},
   "outputs": [],
   "source": []
  }
 ],
 "metadata": {
  "kernelspec": {
   "display_name": "Python 3 (ipykernel)",
   "language": "python",
   "name": "python3"
  },
  "language_info": {
   "codemirror_mode": {
    "name": "ipython",
    "version": 3
   },
   "file_extension": ".py",
   "mimetype": "text/x-python",
   "name": "python",
   "nbconvert_exporter": "python",
   "pygments_lexer": "ipython3",
   "version": "3.10.6"
  },
  "toc": {
   "base_numbering": 1,
   "nav_menu": {},
   "number_sections": true,
   "sideBar": true,
   "skip_h1_title": false,
   "title_cell": "Table of Contents",
   "title_sidebar": "Contents",
   "toc_cell": false,
   "toc_position": {},
   "toc_section_display": true,
   "toc_window_display": false
  }
 },
 "nbformat": 4,
 "nbformat_minor": 5
}
